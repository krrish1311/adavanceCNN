{
 "cells": [
  {
   "cell_type": "code",
   "execution_count": 1,
   "metadata": {},
   "outputs": [],
   "source": [
    "import numpy as np \n",
    "import pandas as pd\n",
    "import pytesseract\n",
    "#put command to give path of tesseract.exe to pytesseract\n",
    "pytesseract.pytesseract.tesseract_cmd='C:\\\\Program Files\\\\Tesseract-OCR\\\\Tesseract.exe'"
   ]
  },
  {
   "cell_type": "code",
   "execution_count": 2,
   "metadata": {},
   "outputs": [],
   "source": [
    "import matplotlib.pyplot as plt\n",
    "import cv2"
   ]
  },
  {
   "cell_type": "code",
   "execution_count": 3,
   "metadata": {},
   "outputs": [],
   "source": [
    "#here i am using the web cam ip of my phone \n",
    "web_ip ='http://192.168.43.1:8080/video'"
   ]
  },
  {
   "cell_type": "code",
   "execution_count": 4,
   "metadata": {},
   "outputs": [],
   "source": [
    "model_license = cv2.CascadeClassifier('haarcascade_russian_plate_number.xml')\n",
    "#model_license = cv2.CascadeClassifier('indian_license_plate.xml')"
   ]
  },
  {
   "cell_type": "code",
   "execution_count": 5,
   "metadata": {},
   "outputs": [],
   "source": [
    "def license_plate(photo):\n",
    "    plate = model_license.detectMultiScale(photo)\n",
    "    if len(plate)==0 :\n",
    "        crop = 0\n",
    "    else :\n",
    "        x1=plate[0][0]\n",
    "        y1=plate[0][1]\n",
    "        x2=x1 + plate[0][2]\n",
    "        y2=y1 + plate[0][3]\n",
    "        crop = photo[y1:y2 , x1:x2]\n",
    "        #crop = cv2.medianBlur(crop,5)\n",
    "        #crop = cv2.threshold(crop,0,255,cv2.THRESH_BINARY +cv2.THRESH_OTSU)[1]\n",
    "    return crop    "
   ]
  },
  {
   "cell_type": "code",
   "execution_count": 6,
   "metadata": {},
   "outputs": [],
   "source": [
    "#cap = cv2.VideoCapture(0)\n",
    "cap_mob = cv2.VideoCapture(web_ip)"
   ]
  },
  {
   "cell_type": "code",
   "execution_count": 7,
   "metadata": {
    "scrolled": true
   },
   "outputs": [
    {
     "name": "stderr",
     "output_type": "stream",
     "text": [
      "<>:6: SyntaxWarning: \"is not\" with a literal. Did you mean \"!=\"?\n",
      "<>:6: SyntaxWarning: \"is not\" with a literal. Did you mean \"!=\"?\n",
      "<ipython-input-7-de0b9b5676eb>:6: SyntaxWarning: \"is not\" with a literal. Did you mean \"!=\"?\n",
      "  if plate_img is not 0 :\n"
     ]
    }
   ],
   "source": [
    "while True :\n",
    "    #clicking photos of the car\n",
    "    \n",
    "    ret,photo = cap_mob.read()\n",
    "    \n",
    "    #pytesseract work only for gray images\n",
    "    \n",
    "    img = cv2.cvtColor(photo , cv2.COLOR_BGR2GRAY)\n",
    "    #storing the cut image into the  variable\n",
    "    \n",
    "    plate_img = license_plate(photo)\n",
    "    # if the plate recognizes then it will give some value else 0\n",
    "    if plate_img is not 0 :\n",
    "        name=pytesseract.image_to_string(plate_img)\n",
    "        #if the len of character is greater than 10 then it is plate number else dummy \n",
    "        if len(name) >10  :\n",
    "            cap_mob.release()\n",
    "            break\n",
    "        \n",
    "    "
   ]
  },
  {
   "cell_type": "code",
   "execution_count": null,
   "metadata": {},
   "outputs": [],
   "source": []
  },
  {
   "cell_type": "code",
   "execution_count": 8,
   "metadata": {},
   "outputs": [],
   "source": [
    "final_plate = name[3:13]"
   ]
  },
  {
   "cell_type": "code",
   "execution_count": 9,
   "metadata": {},
   "outputs": [
    {
     "data": {
      "text/plain": [
       "' \\n\\nHR26DK8337\\n\\x0c'"
      ]
     },
     "execution_count": 9,
     "metadata": {},
     "output_type": "execute_result"
    }
   ],
   "source": [
    "name"
   ]
  },
  {
   "cell_type": "code",
   "execution_count": 10,
   "metadata": {},
   "outputs": [
    {
     "data": {
      "text/plain": [
       "'HR26DK8337'"
      ]
     },
     "execution_count": 10,
     "metadata": {},
     "output_type": "execute_result"
    }
   ],
   "source": [
    "final_plate"
   ]
  },
  {
   "cell_type": "code",
   "execution_count": 11,
   "metadata": {},
   "outputs": [],
   "source": [
    "import requests\n",
    "import xmltodict\n",
    "import json"
   ]
  },
  {
   "cell_type": "code",
   "execution_count": 12,
   "metadata": {},
   "outputs": [],
   "source": [
    "def get_vehicle_info(plate_number):\n",
    "    r = requests.get(\"http://www.regcheck.org.uk/api/reg.asmx/CheckIndia?RegistrationNumber={0}&username=krrish2021\".format(str(plate_number)))\n",
    "    data = xmltodict.parse(r.content)\n",
    "    jdata = json.dumps(data)\n",
    "    df = json.loads(jdata)\n",
    "    df1 = json.loads(df['Vehicle']['vehicleJson'])\n",
    "    return df1\n"
   ]
  },
  {
   "cell_type": "code",
   "execution_count": 13,
   "metadata": {},
   "outputs": [],
   "source": [
    "information = get_vehicle_info(final_plate)"
   ]
  },
  {
   "cell_type": "code",
   "execution_count": 14,
   "metadata": {},
   "outputs": [
    {
     "data": {
      "text/plain": [
       "{'Description': 'MARUTI SUZUKI INDIA LTD / SWIFT ZXI ',\n",
       " 'RegistrationYear': '2018',\n",
       " 'CarMake': {'CurrentTextValue': 'MARUTI SUZUKI INDIA LTD'},\n",
       " 'CarModel': {'CurrentTextValue': 'SWIFT ZXI'},\n",
       " 'MakeDescription': {'CurrentTextValue': 'MARUTI SUZUKI INDIA LTD'},\n",
       " 'ModelDescription': {'CurrentTextValue': 'SWIFT ZXI'},\n",
       " 'VechileIdentificationNumber': 'MBHCZC63SHL10000',\n",
       " 'EngineNumber': 'K12MN20XXXXX',\n",
       " 'FuelType': {'CurrentTextValue': 'PETROL'},\n",
       " 'RegistrationDate': '03/01/2018',\n",
       " 'Owner': 'MARUTI SUZUKI INDIA LIMITED',\n",
       " 'Fitness': '02-Jan-2033',\n",
       " 'Insurance': '03-Dec-2018',\n",
       " 'Location': 'RLA, GURGAON',\n",
       " 'ImageUrl': 'http://in.carregistrationapi.com/image.aspx/@TUFSVVRJIFNVWlVLSSBJTkRJQSBMVEQgLyBTV0lGVCBaWEkg'}"
      ]
     },
     "execution_count": 14,
     "metadata": {},
     "output_type": "execute_result"
    }
   ],
   "source": [
    "information"
   ]
  },
  {
   "cell_type": "code",
   "execution_count": null,
   "metadata": {},
   "outputs": [],
   "source": []
  }
 ],
 "metadata": {
  "kernelspec": {
   "display_name": "Python 3",
   "language": "python",
   "name": "python3"
  },
  "language_info": {
   "codemirror_mode": {
    "name": "ipython",
    "version": 3
   },
   "file_extension": ".py",
   "mimetype": "text/x-python",
   "name": "python",
   "nbconvert_exporter": "python",
   "pygments_lexer": "ipython3",
   "version": "3.8.5"
  }
 },
 "nbformat": 4,
 "nbformat_minor": 4
}
