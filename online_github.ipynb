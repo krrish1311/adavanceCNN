{
 "cells": [
  {
   "cell_type": "code",
   "execution_count": 1,
   "id": "a4d96c6b",
   "metadata": {},
   "outputs": [],
   "source": [
    "import onnx"
   ]
  },
  {
   "cell_type": "code",
   "execution_count": 2,
   "id": "b3ee216f",
   "metadata": {},
   "outputs": [
    {
     "ename": "AttributeError",
     "evalue": "module 'onnx' has no attribute 'convert'",
     "output_type": "error",
     "traceback": [
      "\u001b[1;31m---------------------------------------------------------------------------\u001b[0m",
      "\u001b[1;31mAttributeError\u001b[0m                            Traceback (most recent call last)",
      "Input \u001b[1;32mIn [2]\u001b[0m, in \u001b[0;36m<cell line: 1>\u001b[1;34m()\u001b[0m\n\u001b[1;32m----> 1\u001b[0m \u001b[43monnx\u001b[49m\u001b[38;5;241;43m.\u001b[39;49m\u001b[43mconvert\u001b[49m(\u001b[38;5;124m\"\u001b[39m\u001b[38;5;124m./plantDisease-resnet34.pth\u001b[39m\u001b[38;5;124m\"\u001b[39m,\u001b[38;5;124m\"\u001b[39m\u001b[38;5;124m./plantdisease_detection.h5\u001b[39m\u001b[38;5;124m\"\u001b[39m)\n",
      "\u001b[1;31mAttributeError\u001b[0m: module 'onnx' has no attribute 'convert'"
     ]
    }
   ],
   "source": [
    "onnx.convert(\"./plantDisease-resnet34.pth\",\"./plantdisease_detection.h5\")"
   ]
  },
  {
   "cell_type": "code",
   "execution_count": null,
   "id": "a08ab20b",
   "metadata": {},
   "outputs": [],
   "source": [
    "https://github.com/dev-abir/chlorophyll/blob/main/chlorophyll_model.ipynb"
   ]
  },
  {
   "cell_type": "code",
   "execution_count": null,
   "id": "7b09bc52",
   "metadata": {},
   "outputs": [],
   "source": [
    "https://github.com/BharathJawahar/Plant-Disease-Detector/tree/main/Models"
   ]
  },
  {
   "cell_type": "code",
   "execution_count": 2,
   "id": "f03d5824",
   "metadata": {},
   "outputs": [],
   "source": [
    "import os"
   ]
  },
  {
   "cell_type": "code",
   "execution_count": 12,
   "id": "c46b4350",
   "metadata": {},
   "outputs": [
    {
     "ename": "SyntaxError",
     "evalue": "(unicode error) 'unicodeescape' codec can't decode bytes in position 2-3: truncated \\UXXXXXXXX escape (580008252.py, line 1)",
     "output_type": "error",
     "traceback": [
      "\u001b[1;36m  Input \u001b[1;32mIn [12]\u001b[1;36m\u001b[0m\n\u001b[1;33m    names=os.listdir(\"C:\\Users\\Krrish\\Downloads\\Plant_leaf_diseases_dataset_with_augmentation\\Plant_leave_diseases_dataset_with_augmentation\")\u001b[0m\n\u001b[1;37m                                                                                                                                             ^\u001b[0m\n\u001b[1;31mSyntaxError\u001b[0m\u001b[1;31m:\u001b[0m (unicode error) 'unicodeescape' codec can't decode bytes in position 2-3: truncated \\UXXXXXXXX escape\n"
     ]
    }
   ],
   "source": [
    "names=os.listdir(\"C:\\Users\\Krrish\\Downloads\\Plant_leaf_diseases_dataset_with_augmentation\\Plant_leave_diseases_dataset_with_augmentation\")"
   ]
  },
  {
   "cell_type": "code",
   "execution_count": 9,
   "id": "8e275807",
   "metadata": {},
   "outputs": [
    {
     "data": {
      "text/plain": [
       "['.ipynb_checkpoints',\n",
       " '200X200_car.h5',\n",
       " '64X64_car.h5',\n",
       " 'Alex.ipynb',\n",
       " 'Build AlexNet and test on CIFAR10 (1).ipynb',\n",
       " 'Built LeNet and test on MNIST (1).ipynb',\n",
       " 'cars.xml',\n",
       " 'cars_3.xml',\n",
       " 'Car_brand_recognize.ipynb',\n",
       " 'doc.aspx',\n",
       " 'download.jfif',\n",
       " 'Fashion MNIST.ipynb',\n",
       " 'haarcascade_frontalface_default (1).xml',\n",
       " 'haarcascade_russian_plate_number.xml',\n",
       " 'indian_license_plate.xml',\n",
       " 'LeNet.ipynb',\n",
       " 'license.ipynb',\n",
       " 'mnist_LeNet.h5',\n",
       " 'online_github.ipynb',\n",
       " 'Untitled.ipynb',\n",
       " 'Untitled1.ipynb',\n",
       " 'Untitled2.ipynb']"
      ]
     },
     "execution_count": 9,
     "metadata": {},
     "output_type": "execute_result"
    }
   ],
   "source": [
    "names"
   ]
  },
  {
   "cell_type": "code",
   "execution_count": null,
   "id": "147f59ae",
   "metadata": {},
   "outputs": [],
   "source": []
  }
 ],
 "metadata": {
  "kernelspec": {
   "display_name": "Python 3 (ipykernel)",
   "language": "python",
   "name": "python3"
  },
  "language_info": {
   "codemirror_mode": {
    "name": "ipython",
    "version": 3
   },
   "file_extension": ".py",
   "mimetype": "text/x-python",
   "name": "python",
   "nbconvert_exporter": "python",
   "pygments_lexer": "ipython3",
   "version": "3.9.12"
  }
 },
 "nbformat": 4,
 "nbformat_minor": 5
}
